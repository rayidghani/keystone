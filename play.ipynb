{
 "cells": [
  {
   "cell_type": "code",
   "execution_count": 5,
   "metadata": {
    "collapsed": false
   },
   "outputs": [
    {
     "name": "stdout",
     "output_type": "stream",
     "text": [
      "2014-12-30 00:00:00 2015-06-30 00:00:00 2015-07-01 00:00:00 2016-01-01 00:00:00 6\n"
     ]
    },
    {
     "ename": "NameError",
     "evalue": "global name 'X' is not defined",
     "output_type": "error",
     "traceback": [
      "\u001b[0;31m---------------------------------------------------------------------------\u001b[0m",
      "\u001b[0;31mNameError\u001b[0m                                 Traceback (most recent call last)",
      "\u001b[0;32m<ipython-input-5-c0f8efd6bb0c>\u001b[0m in \u001b[0;36m<module>\u001b[0;34m()\u001b[0m\n\u001b[1;32m     36\u001b[0m \u001b[0;34m\u001b[0m\u001b[0m\n\u001b[1;32m     37\u001b[0m \u001b[0;34m\u001b[0m\u001b[0m\n\u001b[0;32m---> 38\u001b[0;31m \u001b[0mdf\u001b[0m \u001b[0;34m=\u001b[0m \u001b[0mget_temporal_splits\u001b[0m \u001b[0;34m(\u001b[0m\u001b[0mstart_time\u001b[0m\u001b[0;34m,\u001b[0m \u001b[0mend_time\u001b[0m\u001b[0;34m,\u001b[0m \u001b[0mprediction_windows\u001b[0m\u001b[0;34m,\u001b[0m \u001b[0mupdate_window\u001b[0m\u001b[0;34m)\u001b[0m\u001b[0;34m\u001b[0m\u001b[0m\n\u001b[0m\u001b[1;32m     39\u001b[0m \u001b[0;32mprint\u001b[0m \u001b[0mdf\u001b[0m\u001b[0;34m\u001b[0m\u001b[0m\n",
      "\u001b[0;32m/Users/rayid/Projects/code/keystone/temporal_validate.py\u001b[0m in \u001b[0;36mget_temporal_splits\u001b[0;34m(start_time, end_time, prediction_windows, update_window)\u001b[0m\n\u001b[1;32m     58\u001b[0m                 \u001b[0;31m# X_train, y_train = get_dataset(train_start_time,train_end_time)\u001b[0m\u001b[0;34m\u001b[0m\u001b[0;34m\u001b[0m\u001b[0m\n\u001b[1;32m     59\u001b[0m                 \u001b[0;31m# X_test, y_test = get_dataset(test_start_time, test_end_time)\u001b[0m\u001b[0;34m\u001b[0m\u001b[0;34m\u001b[0m\u001b[0m\n\u001b[0;32m---> 60\u001b[0;31m                 \u001b[0mX_train\u001b[0m\u001b[0;34m,\u001b[0m \u001b[0mX_test\u001b[0m\u001b[0;34m,\u001b[0m \u001b[0my_train\u001b[0m\u001b[0;34m,\u001b[0m \u001b[0my_test\u001b[0m \u001b[0;34m=\u001b[0m \u001b[0mtrain_test_split\u001b[0m\u001b[0;34m(\u001b[0m\u001b[0mX\u001b[0m\u001b[0;34m,\u001b[0m \u001b[0mY\u001b[0m\u001b[0;34m,\u001b[0m \u001b[0mtest_size\u001b[0m\u001b[0;34m=\u001b[0m\u001b[0;36m0.3\u001b[0m\u001b[0;34m,\u001b[0m \u001b[0mrandom_state\u001b[0m\u001b[0;34m=\u001b[0m\u001b[0;36m0\u001b[0m\u001b[0;34m)\u001b[0m\u001b[0;34m\u001b[0m\u001b[0m\n\u001b[0m\u001b[1;32m     61\u001b[0m                 \u001b[0;31m# build models\u001b[0m\u001b[0;34m\u001b[0m\u001b[0;34m\u001b[0m\u001b[0m\n\u001b[1;32m     62\u001b[0m                 \u001b[0mresults_df_columns\u001b[0m \u001b[0;34m=\u001b[0m \u001b[0;34m[\u001b[0m\u001b[0;34m'train_start_time'\u001b[0m\u001b[0;34m,\u001b[0m\u001b[0;34m'train_end_time'\u001b[0m\u001b[0;34m,\u001b[0m\u001b[0;34m'test_start_time'\u001b[0m\u001b[0;34m,\u001b[0m\u001b[0;34m'test_end_time'\u001b[0m\u001b[0;34m,\u001b[0m\u001b[0;34m'prediction_window'\u001b[0m\u001b[0;34m,\u001b[0m\u001b[0;34m'classifier'\u001b[0m\u001b[0;34m,\u001b[0m \u001b[0;34m'parameters'\u001b[0m\u001b[0;34m,\u001b[0m\u001b[0;34m'pat5'\u001b[0m\u001b[0;34m]\u001b[0m\u001b[0;34m\u001b[0m\u001b[0m\n",
      "\u001b[0;31mNameError\u001b[0m: global name 'X' is not defined"
     ]
    }
   ],
   "source": [
    "# sample config file to run temporal validation\n",
    "\n",
    "# start time of our data\n",
    "start_time = '2009-01-01'\n",
    "\n",
    "# last date of data including labels and outcomes that we have\n",
    "end_time = '2016-01-01'\n",
    "\n",
    "# how far out do we want to predict (let's say in months for now)\n",
    "prediction_windows = [6, 12]\n",
    "\n",
    "# how often is this prediction being made? every day? every month? once a year?\n",
    "update_window = 12\n",
    "\n",
    "# what features do you want to use?\n",
    "feature_list = ['a', 'b', 'c', 'd', 'e']\n",
    "\n",
    "# what do you want as positive labels ?\n",
    "positive_labels = [\"sustained\",\"complaints\"]\n",
    "\n",
    "# what do you want as positive labels ?\n",
    "# default can be everything that's not positive in the outcomes table\n",
    "negative_labels = []\n",
    "\n",
    "import pandas as pd\n",
    "from temporal_validate import *\n",
    "\n",
    "clfs, grid = define_clfs_params()\n",
    "models_to_run = ['TESTRF']\n",
    "\n",
    "# get X and y\n",
    "df = pd.read_csv(\"../cs-training.csv\")\n",
    "features = ['RevolvingUtilizationOfUnsecuredLines', 'DebtRatio', 'age', 'NumberOfTimes90DaysLate']\n",
    "X = df[features]\n",
    "Y = df.SeriousDlqin2yrs\n",
    "\n",
    "\n",
    "df = get_temporal_splits (start_time, end_time, prediction_windows, update_window)\n",
    "print df"
   ]
  },
  {
   "cell_type": "code",
   "execution_count": null,
   "metadata": {
    "collapsed": true
   },
   "outputs": [],
   "source": []
  }
 ],
 "metadata": {
  "kernelspec": {
   "display_name": "Python 2",
   "language": "python",
   "name": "python2"
  },
  "language_info": {
   "codemirror_mode": {
    "name": "ipython",
    "version": 2
   },
   "file_extension": ".py",
   "mimetype": "text/x-python",
   "name": "python",
   "nbconvert_exporter": "python",
   "pygments_lexer": "ipython2",
   "version": "2.7.11"
  }
 },
 "nbformat": 4,
 "nbformat_minor": 0
}
