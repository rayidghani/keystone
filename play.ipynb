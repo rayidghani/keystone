{
 "cells": [
  {
   "cell_type": "code",
   "execution_count": null,
   "metadata": {
    "collapsed": false
   },
   "outputs": [],
   "source": [
    "# sample config file to run temporal validation\n",
    "\n",
    "# start time of our data\n",
    "start_time = '2009-01-01'\n",
    "\n",
    "# last date of data including labels and outcomes that we have\n",
    "end_time = '2016-01-01'\n",
    "\n",
    "# how far out do we want to predict (let's say in months for now)\n",
    "prediction_windows = [6, 12]\n",
    "\n",
    "# how often is this prediction being made? every day? every month? once a year?\n",
    "update_window = 12\n",
    "\n",
    "# what features do you want to use?\n",
    "feature_list = ['a', 'b', 'c', 'd', 'e']\n",
    "\n",
    "# what do you want as positive labels ?\n",
    "positive_labels = [\"sustained\",\"complaints\"]\n",
    "\n",
    "# what do you want as positive labels ?\n",
    "# default can be everything that's not positive in the outcomes table\n",
    "negative_labels = []\n",
    "\n",
    "import pandas as pd\n",
    "from temporal_pipeline import *\n",
    "\n",
    "clfs, grid = define_clfs_params()\n",
    "models_to_run = ['TESTRF']\n",
    "\n",
    "# get X and y\n",
    "df = pd.read_csv(\"../cs-training.csv\")\n",
    "features = ['RevolvingUtilizationOfUnsecuredLines', 'DebtRatio', 'age', 'NumberOfTimes90DaysLate']\n",
    "X = df[features]\n",
    "Y = df.SeriousDlqin2yrs\n",
    "\n",
    "\n",
    "df = get_temporal_splits (start_time, end_time, prediction_windows, update_window)\n",
    "print df"
   ]
  },
  {
   "cell_type": "code",
   "execution_count": null,
   "metadata": {
    "collapsed": true
   },
   "outputs": [],
   "source": []
  }
 ],
 "metadata": {
  "kernelspec": {
   "display_name": "Python 2",
   "language": "python",
   "name": "python2"
  },
  "language_info": {
   "codemirror_mode": {
    "name": "ipython",
    "version": 2
   },
   "file_extension": ".py",
   "mimetype": "text/x-python",
   "name": "python",
   "nbconvert_exporter": "python",
   "pygments_lexer": "ipython2",
   "version": "2.7.11"
  }
 },
 "nbformat": 4,
 "nbformat_minor": 0
}
